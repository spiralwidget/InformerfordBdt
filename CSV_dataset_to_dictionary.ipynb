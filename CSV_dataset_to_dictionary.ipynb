{
 "cells": [
  {
   "cell_type": "markdown",
   "id": "c2cba096",
   "metadata": {},
   "source": [
    "# This dataset will turn the long csv format that we currently have for the dataset into shorter chunks which will be put into a dictionary.\n"
   ]
  },
  {
   "cell_type": "code",
   "execution_count": 1,
   "id": "a0f51b49",
   "metadata": {},
   "outputs": [
    {
     "name": "stdout",
     "output_type": "stream",
     "text": [
      "             Timestamp       B_N        B_E        B_C       B_H      dBdt  \\\n",
      "0  1998-01-01 00:00:00  2.986431 -30.735754  12.413619 -4.953068       NaN   \n",
      "1  1998-01-01 00:01:00  2.685543 -30.765657  12.712690 -5.255430 -0.302362   \n",
      "2  1998-01-01 00:02:00  2.485527 -30.785560  12.712053 -5.456428 -0.200998   \n",
      "3  1998-01-01 00:03:00  2.724636 -31.195463  13.012695 -5.256029  0.200398   \n",
      "4  1998-01-01 00:04:00  2.624329 -31.205366  13.112348 -5.356822 -0.100792   \n",
      "\n",
      "   BY_GSM  BZ_GSM  flow_speed  proton_density         T  Pressure   KP  DST  \n",
      "0    5.41    2.31  357.600006            6.85  100711.0      1.75  7.0 -9.0  \n",
      "1    5.51    1.92  357.600006            6.85  100711.0      1.75  7.0 -9.0  \n",
      "2    4.04    1.59  351.600006            4.74   75882.0      1.17  7.0 -9.0  \n",
      "3    4.72    0.29  358.100006            6.24  100646.0      1.60  7.0 -9.0  \n",
      "4    4.22    3.00  365.600006            7.27  117669.0      1.94  7.0 -9.0  \n"
     ]
    }
   ],
   "source": [
    "import pandas as pd\n",
    "df = pd.read_csv('/exports/csce/datastore/geos/users/s1725621/data/OMNImergeLER19982020.csv')\n",
    "# Display the first 5 rows\n",
    "print(df.head())"
   ]
  },
  {
   "cell_type": "code",
   "execution_count": 2,
   "id": "4384505d",
   "metadata": {},
   "outputs": [
    {
     "name": "stdout",
     "output_type": "stream",
     "text": [
      "11568960\n"
     ]
    }
   ],
   "source": [
    "print(len(df))"
   ]
  },
  {
   "cell_type": "code",
   "execution_count": 12,
   "id": "32a0b36f",
   "metadata": {},
   "outputs": [],
   "source": [
    "your_dictionary={'a': 1, 'b': 2, 'c': 4}"
   ]
  },
  {
   "cell_type": "markdown",
   "id": "c25f2c81",
   "metadata": {},
   "source": [
    "First, we check that we can save the dictionary and load it appropriately. The dictionary overwrites."
   ]
  },
  {
   "cell_type": "code",
   "execution_count": 13,
   "id": "60d7c4c4",
   "metadata": {},
   "outputs": [],
   "source": [
    "import json\n",
    "\n",
    "# To save a dictionary as a JSON file\n",
    "with open('/exports/csce/datastore/geos/users/s1725621/data/exampledictionary.json', 'w') as f:\n",
    "    json.dump(your_dictionary, f)\n",
    "\n",
    "# To load a dictionary from a JSON file\n",
    "with open('/exports/csce/datastore/geos/users/s1725621/data/exampledictionary.json', 'r') as f:\n",
    "    loaded_dictionary = json.load(f)"
   ]
  },
  {
   "cell_type": "code",
   "execution_count": 14,
   "id": "7dea01e0",
   "metadata": {},
   "outputs": [
    {
     "name": "stdout",
     "output_type": "stream",
     "text": [
      "{'a': 1, 'b': 2, 'c': 4}\n"
     ]
    }
   ],
   "source": [
    "print(loaded_dictionary)"
   ]
  },
  {
   "cell_type": "markdown",
   "id": "ffbefe60",
   "metadata": {},
   "source": [
    "# Generating the dictionary"
   ]
  },
  {
   "cell_type": "code",
   "execution_count": null,
   "id": "8855da6a",
   "metadata": {},
   "outputs": [],
   "source": []
  }
 ],
 "metadata": {
  "kernelspec": {
   "display_name": "Python 3 (ipykernel)",
   "language": "python",
   "name": "python3"
  },
  "language_info": {
   "codemirror_mode": {
    "name": "ipython",
    "version": 3
   },
   "file_extension": ".py",
   "mimetype": "text/x-python",
   "name": "python",
   "nbconvert_exporter": "python",
   "pygments_lexer": "ipython3",
   "version": "3.10.12"
  }
 },
 "nbformat": 4,
 "nbformat_minor": 5
}
