{
 "cells": [
  {
   "cell_type": "markdown",
   "id": "c2cba096",
   "metadata": {},
   "source": [
    "# This dataset will turn the long csv format that we currently have for the dataset into shorter chunks which will be put into a dictionary.\n"
   ]
  },
  {
   "cell_type": "code",
   "execution_count": 1,
   "id": "99b94940",
   "metadata": {},
   "outputs": [],
   "source": [
    "import numpy as np\n",
    "import tqdm"
   ]
  },
  {
   "cell_type": "code",
   "execution_count": 2,
   "id": "a0f51b49",
   "metadata": {},
   "outputs": [
    {
     "name": "stdout",
     "output_type": "stream",
     "text": [
      "             Timestamp       B_N        B_E        B_C       B_H      dBdt  \\\n",
      "0  1998-01-01 00:00:00  2.986431 -30.735754  12.413619 -4.953068       NaN   \n",
      "1  1998-01-01 00:01:00  2.685543 -30.765657  12.712690 -5.255430 -0.302362   \n",
      "2  1998-01-01 00:02:00  2.485527 -30.785560  12.712053 -5.456428 -0.200998   \n",
      "3  1998-01-01 00:03:00  2.724636 -31.195463  13.012695 -5.256029  0.200398   \n",
      "4  1998-01-01 00:04:00  2.624329 -31.205366  13.112348 -5.356822 -0.100792   \n",
      "\n",
      "   BY_GSM  BZ_GSM  flow_speed  proton_density         T  Pressure   KP  DST  \n",
      "0    5.41    2.31  357.600006            6.85  100711.0      1.75  7.0 -9.0  \n",
      "1    5.51    1.92  357.600006            6.85  100711.0      1.75  7.0 -9.0  \n",
      "2    4.04    1.59  351.600006            4.74   75882.0      1.17  7.0 -9.0  \n",
      "3    4.72    0.29  358.100006            6.24  100646.0      1.60  7.0 -9.0  \n",
      "4    4.22    3.00  365.600006            7.27  117669.0      1.94  7.0 -9.0  \n"
     ]
    }
   ],
   "source": [
    "import pandas as pd\n",
    "df = pd.read_csv('/exports/csce/datastore/geos/users/s1725621/data/OMNImergeLER19982020.csv')\n",
    "# Display the first 5 rows\n",
    "print(df.head())"
   ]
  },
  {
   "cell_type": "code",
   "execution_count": 3,
   "id": "4384505d",
   "metadata": {},
   "outputs": [
    {
     "name": "stdout",
     "output_type": "stream",
     "text": [
      "11568960\n"
     ]
    }
   ],
   "source": [
    "print(len(df))"
   ]
  },
  {
   "cell_type": "code",
   "execution_count": 4,
   "id": "32a0b36f",
   "metadata": {},
   "outputs": [],
   "source": [
    "your_dictionary={'a': 1, 'b': 2, 'c': 4}"
   ]
  },
  {
   "cell_type": "markdown",
   "id": "c25f2c81",
   "metadata": {},
   "source": [
    "First, we check that we can save the dictionary and load it appropriately. The dictionary overwrites."
   ]
  },
  {
   "cell_type": "code",
   "execution_count": 5,
   "id": "60d7c4c4",
   "metadata": {},
   "outputs": [],
   "source": [
    "import json\n",
    "\n",
    "# To save a dictionary as a JSON file\n",
    "with open('/exports/csce/datastore/geos/users/s1725621/data/exampledictionary.json', 'w') as f:\n",
    "    json.dump(your_dictionary, f)\n",
    "\n",
    "# To load a dictionary from a JSON file\n",
    "with open('/exports/csce/datastore/geos/users/s1725621/data/exampledictionary.json', 'r') as f:\n",
    "    loaded_dictionary = json.load(f)"
   ]
  },
  {
   "cell_type": "code",
   "execution_count": 6,
   "id": "7dea01e0",
   "metadata": {},
   "outputs": [
    {
     "name": "stdout",
     "output_type": "stream",
     "text": [
      "{'a': 1, 'b': 2, 'c': 4}\n"
     ]
    }
   ],
   "source": [
    "print(loaded_dictionary)"
   ]
  },
  {
   "cell_type": "markdown",
   "id": "ffbefe60",
   "metadata": {},
   "source": [
    "# Generating the dictionary"
   ]
  },
  {
   "cell_type": "code",
   "execution_count": 7,
   "id": "5e7c8889",
   "metadata": {},
   "outputs": [
    {
     "name": "stdout",
     "output_type": "stream",
     "text": [
      "11568960\n"
     ]
    }
   ],
   "source": [
    "x=len(df)\n",
    "\n",
    "print(x)"
   ]
  },
  {
   "cell_type": "code",
   "execution_count": 8,
   "id": "8855da6a",
   "metadata": {},
   "outputs": [
    {
     "name": "stdout",
     "output_type": "stream",
     "text": [
      "['1998-01-01 00:00:00' 2.986430712301626 -30.73575352004167\n",
      " 12.413619136407164 -4.953067560482452 nan 5.409999847412109\n",
      " 2.309999942779541 357.6000061035156 6.849999904632568 100711.0 1.75 7.0\n",
      " -9.0]\n",
      "11568960\n"
     ]
    }
   ],
   "source": [
    "jx= df.to_numpy()\n",
    "print(jx[0])\n",
    "print(len(jx))"
   ]
  },
  {
   "cell_type": "code",
   "execution_count": 9,
   "id": "9e9c2f75",
   "metadata": {},
   "outputs": [],
   "source": [
    "VECTORStrain=jx[:5000000,1:]\n",
    "VECTORSval=jx[:7500000,1:]\n",
    "VECTORS=jx[:,1:]\n",
    "STARTtrain=jx[:5000000,0]\n",
    "STARTval=jx[:7500000,0]\n",
    "START=jx[:,0]\n",
    "\n",
    "VECTORS1=[]\n",
    "\n",
    "for i in VECTORS:\n",
    "    VECTORS1.append(list(i))\n",
    "VECTORS=VECTORS1\n",
    "\n",
    "STARTval=list(STARTval)\n",
    "STARTtrain=list(STARTtrain)\n",
    "START=list(START)"
   ]
  },
  {
   "cell_type": "code",
   "execution_count": 10,
   "id": "f13a4035",
   "metadata": {},
   "outputs": [
    {
     "name": "stdout",
     "output_type": "stream",
     "text": [
      "[2.986430712301626, -30.73575352004167, 12.413619136407164, -4.953067560482452, nan, 5.409999847412109, 2.309999942779541, 357.6000061035156, 6.849999904632568, 100711.0, 1.75, 7.0, -9.0]\n",
      "1998-01-01 00:00:00\n"
     ]
    }
   ],
   "source": [
    "print(VECTORS[0])\n",
    "print(START[0])"
   ]
  },
  {
   "cell_type": "code",
   "execution_count": 11,
   "id": "5a7018a3",
   "metadata": {},
   "outputs": [
    {
     "name": "stdout",
     "output_type": "stream",
     "text": [
      "Type of START: <class 'list'>\n",
      "Type of VECTORS: <class 'list'>\n",
      "Type of START: <class 'str'>\n",
      "Type of VECTORS: <class 'list'>\n",
      "11568960\n",
      "13\n"
     ]
    }
   ],
   "source": [
    "# Print the types of START and VECTORS to verify they are lists\n",
    "\n",
    "print(f\"Type of START: {type(START)}\")\n",
    "print(f\"Type of VECTORS: {type(VECTORS)}\")\n",
    "\n",
    "# Print elements within the lists to ensure they are correct\n",
    "print(f\"Type of START: {type(START[0])}\")\n",
    "print(f\"Type of VECTORS: {type(VECTORS[0])}\")\n",
    "\n",
    "print(len(VECTORS))\n",
    "print(len(VECTORS[0]))"
   ]
  },
  {
   "cell_type": "code",
   "execution_count": 12,
   "id": "d5c4f797",
   "metadata": {},
   "outputs": [],
   "source": [
    "\n",
    "your_dictionary={'start': START, 'target': VECTORS, 'feat_static_cat':list([0]), 'feat_dynamic_real':list([None]), 'item_id':list(['T1'])}\n",
    "                "
   ]
  },
  {
   "cell_type": "code",
   "execution_count": 13,
   "id": "8b54f7f8",
   "metadata": {},
   "outputs": [],
   "source": [
    "# To save a dictionary as a JSON file\n",
    "with open('/exports/csce/datastore/geos/users/s1725621/data/trainingdictionary.json', 'w') as f:\n",
    "    json.dump(your_dictionary, f)\n",
    "\n",
    "# To load a dictionary from a JSON file\n",
    "with open('/exports/csce/datastore/geos/users/s1725621/data/trainingdictionary.json', 'r') as f:\n",
    "    loaded_dictionary = json.load(f)"
   ]
  },
  {
   "cell_type": "code",
   "execution_count": null,
   "id": "db1871b1",
   "metadata": {},
   "outputs": [],
   "source": []
  },
  {
   "cell_type": "markdown",
   "id": "fa769b61",
   "metadata": {},
   "source": [
    "# Still not in right format. Will try to correct!"
   ]
  },
  {
   "cell_type": "code",
   "execution_count": 14,
   "id": "4a2004c8",
   "metadata": {},
   "outputs": [
    {
     "name": "stdout",
     "output_type": "stream",
     "text": [
      "5000000\n"
     ]
    }
   ],
   "source": [
    "print(len(VECTORStrain))"
   ]
  },
  {
   "cell_type": "code",
   "execution_count": 15,
   "id": "c13556f3",
   "metadata": {},
   "outputs": [
    {
     "name": "stderr",
     "output_type": "stream",
     "text": [
      "/home/s1725621/.local/lib/python3.10/site-packages/tqdm/auto.py:21: TqdmWarning: IProgress not found. Please update jupyter and ipywidgets. See https://ipywidgets.readthedocs.io/en/stable/user_install.html\n",
      "  from .autonotebook import tqdm as notebook_tqdm\n"
     ]
    }
   ],
   "source": [
    "from datasets import Dataset, DatasetDict"
   ]
  },
  {
   "cell_type": "code",
   "execution_count": 16,
   "id": "b6be8e29",
   "metadata": {},
   "outputs": [],
   "source": [
    "from datasets import load_from_disk"
   ]
  },
  {
   "cell_type": "code",
   "execution_count": 17,
   "id": "d3054a4b",
   "metadata": {},
   "outputs": [
    {
     "name": "stderr",
     "output_type": "stream",
     "text": [
      "IOPub data rate exceeded.\n",
      "The notebook server will temporarily stop sending output\n",
      "to the client in order to avoid crashing it.\n",
      "To change this limit, set the config variable\n",
      "`--NotebookApp.iopub_data_rate_limit`.\n",
      "\n",
      "Current values:\n",
      "NotebookApp.iopub_data_rate_limit=1000000.0 (bytes/sec)\n",
      "NotebookApp.rate_limit_window=3.0 (secs)\n",
      "\n"
     ]
    }
   ],
   "source": [
    "print(len(START))\n",
    "print(START)\n",
    "print(len(VECTORStrain))"
   ]
  },
  {
   "cell_type": "code",
   "execution_count": null,
   "id": "1aa03550",
   "metadata": {},
   "outputs": [],
   "source": []
  },
  {
   "cell_type": "code",
   "execution_count": null,
   "id": "11bc1018",
   "metadata": {},
   "outputs": [],
   "source": []
  },
  {
   "cell_type": "code",
   "execution_count": null,
   "id": "303e9e00",
   "metadata": {},
   "outputs": [],
   "source": []
  },
  {
   "cell_type": "code",
   "execution_count": 18,
   "id": "e2a09a09",
   "metadata": {},
   "outputs": [
    {
     "name": "stdout",
     "output_type": "stream",
     "text": [
      "11568960\n",
      "5000000\n",
      "7500000\n",
      "11568960\n"
     ]
    }
   ],
   "source": [
    "print(len(START))          # Length of the START array\n",
    "print(len(VECTORStrain))   # Length of the VECTORStrain array\n",
    "print(len(VECTORSval))     # Length of the VECTORSval array\n",
    "print(len(VECTORS))        # Length of the VECTORS array"
   ]
  },
  {
   "cell_type": "code",
   "execution_count": 19,
   "id": "b47e573b",
   "metadata": {},
   "outputs": [],
   "source": [
    "your_dictionaryTRAIN = {\n",
    "    'start': [list(row) for row in STARTtrain],\n",
    "    'target': [list(row) for row in VECTORStrain]\n",
    "}\n",
    "your_dictionaryTEST = {\n",
    "    'start': [list(row) for row in START],\n",
    "    'target': [list(row) for row in VECTORS]\n",
    "}\n",
    "your_dictionaryVAL = {\n",
    "    'start': [list(row) for row in STARTval],\n",
    "    'target': [list(row) for row in VECTORSval]\n",
    "}"
   ]
  },
  {
   "cell_type": "code",
   "execution_count": 20,
   "id": "43fed034",
   "metadata": {},
   "outputs": [
    {
     "name": "stdout",
     "output_type": "stream",
     "text": [
      "\n"
     ]
    }
   ],
   "source": [
    "df1 = pd.DataFrame(your_dictionaryTRAIN)\n",
    "df2 = pd.DataFrame(your_dictionaryVAL)\n",
    "df3 = pd.DataFrame(your_dictionaryTEST)\n",
    "\n",
    "print()"
   ]
  },
  {
   "cell_type": "code",
   "execution_count": 21,
   "id": "9632039e",
   "metadata": {},
   "outputs": [
    {
     "name": "stdout",
     "output_type": "stream",
     "text": [
      "object\n",
      "0    [1, 9, 9, 8, -, 0, 1, -, 0, 1,  , 0, 0, :, 0, ...\n",
      "1    [1, 9, 9, 8, -, 0, 1, -, 0, 1,  , 0, 0, :, 0, ...\n",
      "2    [1, 9, 9, 8, -, 0, 1, -, 0, 1,  , 0, 0, :, 0, ...\n",
      "3    [1, 9, 9, 8, -, 0, 1, -, 0, 1,  , 0, 0, :, 0, ...\n",
      "4    [1, 9, 9, 8, -, 0, 1, -, 0, 1,  , 0, 0, :, 0, ...\n",
      "Name: start, dtype: object\n"
     ]
    }
   ],
   "source": [
    "print(df1['start'].dtype)\n",
    "print(df1['start'].head())  # Display the first few entries"
   ]
  },
  {
   "cell_type": "code",
   "execution_count": 22,
   "id": "9c785531",
   "metadata": {},
   "outputs": [],
   "source": [
    "train_dataset = Dataset.from_pandas(df1)\n",
    "test_dataset = Dataset.from_pandas(df3)\n",
    "validation_dataset = Dataset.from_pandas(df2)"
   ]
  },
  {
   "cell_type": "code",
   "execution_count": 23,
   "id": "f6e30c3b",
   "metadata": {},
   "outputs": [],
   "source": [
    "dataset_dict = DatasetDict({\n",
    "    \"train\": train_dataset,\n",
    "    \"test\": test_dataset,\n",
    "    \"validation\": validation_dataset\n",
    "})"
   ]
  },
  {
   "cell_type": "code",
   "execution_count": 24,
   "id": "efcc5b6f",
   "metadata": {},
   "outputs": [
    {
     "name": "stderr",
     "output_type": "stream",
     "text": [
      "Saving the dataset (3/3 shards): 100%|█| 5000000/5000000 [00:03<00:00, 1251921.3\n",
      "Saving the dataset (5/5 shards): 100%|█| 11568960/11568960 [00:09<00:00, 1177992\n",
      "Saving the dataset (4/4 shards): 100%|█| 7500000/7500000 [00:06<00:00, 1196726.6\n"
     ]
    }
   ],
   "source": [
    "dataset_dict.save_to_disk('/exports/csce/datastore/geos/users/s1725621/data/')\n"
   ]
  },
  {
   "cell_type": "code",
   "execution_count": 25,
   "id": "204f00b3",
   "metadata": {},
   "outputs": [
    {
     "name": "stdout",
     "output_type": "stream",
     "text": [
      "DatasetDict({\n",
      "    train: Dataset({\n",
      "        features: ['start', 'target'],\n",
      "        num_rows: 5000000\n",
      "    })\n",
      "    test: Dataset({\n",
      "        features: ['start', 'target'],\n",
      "        num_rows: 11568960\n",
      "    })\n",
      "    validation: Dataset({\n",
      "        features: ['start', 'target'],\n",
      "        num_rows: 7500000\n",
      "    })\n",
      "})\n"
     ]
    }
   ],
   "source": [
    "loaded_dataset_dict = load_from_disk('/exports/csce/datastore/geos/users/s1725621/data/')\n",
    "\n",
    "print(loaded_dataset_dict)"
   ]
  },
  {
   "cell_type": "code",
   "execution_count": null,
   "id": "835c075c",
   "metadata": {},
   "outputs": [],
   "source": []
  }
 ],
 "metadata": {
  "kernelspec": {
   "display_name": "Python 3 (ipykernel)",
   "language": "python",
   "name": "python3"
  },
  "language_info": {
   "codemirror_mode": {
    "name": "ipython",
    "version": 3
   },
   "file_extension": ".py",
   "mimetype": "text/x-python",
   "name": "python",
   "nbconvert_exporter": "python",
   "pygments_lexer": "ipython3",
   "version": "3.10.12"
  }
 },
 "nbformat": 4,
 "nbformat_minor": 5
}
